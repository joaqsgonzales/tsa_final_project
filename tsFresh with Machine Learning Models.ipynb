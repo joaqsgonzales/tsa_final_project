{
 "cells": [
  {
   "cell_type": "code",
   "execution_count": 1,
   "id": "d59090d4",
   "metadata": {
    "ExecuteTime": {
     "end_time": "2022-06-07T03:56:25.622651Z",
     "start_time": "2022-06-07T03:56:21.346040Z"
    }
   },
   "outputs": [
    {
     "name": "stderr",
     "output_type": "stream",
     "text": [
      "Matplotlib created a temporary config/cache directory at /tmp/matplotlib-9dcf42p9 because the default path (/home/ssy/.cache/matplotlib) is not a writable directory; it is highly recommended to set the MPLCONFIGDIR environment variable to a writable directory, in particular to speed up the import of Matplotlib and to better support multiprocessing.\n"
     ]
    },
    {
     "name": "stdout",
     "output_type": "stream",
     "text": [
      "You need to install the pandas_datareader. Run pip install pandas_datareader.\n"
     ]
    }
   ],
   "source": [
    "%matplotlib inline\n",
    "\n",
    "import numpy as np\n",
    "import pandas as pd\n",
    "import matplotlib.pylab as plt\n",
    "from IPython.display import Image\n",
    "import lightgbm as lgb\n",
    "from tsfresh import extract_features, extract_relevant_features, select_features\n",
    "from tsfresh.utilities.dataframe_functions import roll_time_series, make_forecasting_frame\n",
    "from tsfresh.utilities.dataframe_functions import impute\n",
    "from statsmodels.tsa.holtwinters import ExponentialSmoothing, SimpleExpSmoothing\n",
    "import itertools\n",
    "from datetime import timedelta\n",
    "from statsmodels.graphics.tsaplots import plot_acf\n",
    "import warnings\n",
    "warnings.filterwarnings(\"ignore\")\n",
    "from sklearn.multioutput import MultiOutputRegressor\n",
    "try:\n",
    "    import pandas_datareader.data as web\n",
    "except ImportError:\n",
    "    print(\"You need to install the pandas_datareader. Run pip install pandas_datareader.\")\n",
    "\n",
    "from sklearn.linear_model import LinearRegression #add here\n",
    "\n",
    "def mae(y_true, y_pred):\n",
    "    score = np.mean(np.abs(y_true - y_pred))\n",
    "    return score\n",
    "\n",
    "def rmse(y_true, y_pred):\n",
    "    score = np.sqrt(np.mean((y_true - y_pred)**2))\n",
    "    return score\n",
    "\n",
    "def mape(y_true, y_pred):\n",
    "    score = np.mean(np.abs((y_true - y_pred)/y_true))\n",
    "    return score\n",
    "\n",
    "def mase(y_true, y_pred, ts):\n",
    "    score = np.mean(np.abs((y_true - y_pred)/np.mean(np.abs(ts[1:] - ts[:-1]))))\n",
    "    return score\n",
    "\n",
    "def mase_sea(y_true, y_pred, ts, m):\n",
    "    score = np.mean(np.abs((y_true - y_pred)/np.mean(np.abs(ts[m:] - ts[:-m]))))\n",
    "    return score\n",
    "\n",
    "def meanf(ts, h):\n",
    "    f = np.mean(ts)\n",
    "    f = np.repeat(f, repeats=h)\n",
    "    return f\n",
    "\n",
    "def naivef(ts, h):\n",
    "    f = ts[-1]\n",
    "    f = np.repeat(f, repeats=h)\n",
    "    return f\n",
    "\n",
    "def snaivef(ts, h, m):\n",
    "    f = np.zeros(h)\n",
    "    for i in range(h):\n",
    "        f[i] = ts[-(m - i%m)]\n",
    "    return f\n",
    "\n",
    "def driftf(ts, h):\n",
    "    T = len(ts)\n",
    "    f = np.zeros(h)\n",
    "    for i in range(h):\n",
    "        f[i] = ts[-1] + (i+1)*((ts[-1] - ts[0])/(T - 1))\n",
    "    return f\n",
    "\n",
    "def error_metrics():\n",
    "    errs = {'RMSE': [], 'MAE': [], 'MAPE': []}\n",
    "    for col in df_f:\n",
    "        errs['RMSE'].append(rmse(df_test.to_numpy(), df_f[col].to_numpy()))\n",
    "        errs['MAE'].append(mae(df_test.to_numpy(), df_f[col].to_numpy()))\n",
    "        errs['MAPE'].append(mape(df_test.to_numpy(), df_f[col].to_numpy())*100)\n",
    "\n",
    "    df_err = pd.DataFrame.from_dict(errs)\n",
    "    df_err.index = df_f.columns\n",
    "    display(df_err)"
   ]
  },
  {
   "cell_type": "markdown",
   "id": "3fab1a10",
   "metadata": {},
   "source": [
    "## 1. Prepare the dataset\n",
    "\n",
    "We load the following datasets for the related variable of interest:\n",
    "1. Dubai crude oil price - Target variable\n",
    "2. US-Dollar exchange rate - Exogenous variable\n",
    "3. Commodity Research Bureau index - Exogenous variable\n",
    "4. Google trend on \"crude oil\" - Exogenous variable"
   ]
  },
  {
   "cell_type": "code",
   "execution_count": 2,
   "id": "2570ed11",
   "metadata": {
    "ExecuteTime": {
     "end_time": "2022-06-07T03:56:25.888600Z",
     "start_time": "2022-06-07T03:56:25.625500Z"
    }
   },
   "outputs": [
    {
     "data": {
      "text/html": [
       "<div>\n",
       "<style scoped>\n",
       "    .dataframe tbody tr th:only-of-type {\n",
       "        vertical-align: middle;\n",
       "    }\n",
       "\n",
       "    .dataframe tbody tr th {\n",
       "        vertical-align: top;\n",
       "    }\n",
       "\n",
       "    .dataframe thead th {\n",
       "        text-align: right;\n",
       "    }\n",
       "</style>\n",
       "<table border=\"1\" class=\"dataframe\">\n",
       "  <thead>\n",
       "    <tr style=\"text-align: right;\">\n",
       "      <th></th>\n",
       "      <th>Price</th>\n",
       "      <th>Open</th>\n",
       "      <th>High</th>\n",
       "      <th>Low</th>\n",
       "      <th>Vol.</th>\n",
       "      <th>Change %</th>\n",
       "    </tr>\n",
       "    <tr>\n",
       "      <th>Date</th>\n",
       "      <th></th>\n",
       "      <th></th>\n",
       "      <th></th>\n",
       "      <th></th>\n",
       "      <th></th>\n",
       "      <th></th>\n",
       "    </tr>\n",
       "  </thead>\n",
       "  <tbody>\n",
       "    <tr>\n",
       "      <th>2014-04-28</th>\n",
       "      <td>104.0</td>\n",
       "      <td>104.0</td>\n",
       "      <td>104.0</td>\n",
       "      <td>104.0</td>\n",
       "      <td>-</td>\n",
       "      <td>0.00%</td>\n",
       "    </tr>\n",
       "    <tr>\n",
       "      <th>2014-04-29</th>\n",
       "      <td>104.0</td>\n",
       "      <td>104.0</td>\n",
       "      <td>104.0</td>\n",
       "      <td>104.0</td>\n",
       "      <td>-</td>\n",
       "      <td>0.00%</td>\n",
       "    </tr>\n",
       "    <tr>\n",
       "      <th>2014-04-30</th>\n",
       "      <td>104.0</td>\n",
       "      <td>104.0</td>\n",
       "      <td>104.0</td>\n",
       "      <td>104.0</td>\n",
       "      <td>-</td>\n",
       "      <td>0.00%</td>\n",
       "    </tr>\n",
       "    <tr>\n",
       "      <th>2014-05-01</th>\n",
       "      <td>104.0</td>\n",
       "      <td>104.0</td>\n",
       "      <td>104.0</td>\n",
       "      <td>104.0</td>\n",
       "      <td>-</td>\n",
       "      <td>0.00%</td>\n",
       "    </tr>\n",
       "    <tr>\n",
       "      <th>2014-05-02</th>\n",
       "      <td>104.0</td>\n",
       "      <td>104.0</td>\n",
       "      <td>104.0</td>\n",
       "      <td>104.0</td>\n",
       "      <td>-</td>\n",
       "      <td>0.00%</td>\n",
       "    </tr>\n",
       "  </tbody>\n",
       "</table>\n",
       "</div>"
      ],
      "text/plain": [
       "            Price   Open   High    Low Vol. Change %\n",
       "Date                                                \n",
       "2014-04-28  104.0  104.0  104.0  104.0    -    0.00%\n",
       "2014-04-29  104.0  104.0  104.0  104.0    -    0.00%\n",
       "2014-04-30  104.0  104.0  104.0  104.0    -    0.00%\n",
       "2014-05-01  104.0  104.0  104.0  104.0    -    0.00%\n",
       "2014-05-02  104.0  104.0  104.0  104.0    -    0.00%"
      ]
     },
     "execution_count": 2,
     "metadata": {},
     "output_type": "execute_result"
    }
   ],
   "source": [
    "#Crude oil price\n",
    "df_crude = pd.read_csv('final-proj-data/data/dubai_crude_oil.csv', index_col=0)\n",
    "df_crude.index = pd.to_datetime(df_crude.index)\n",
    "df_crude = df_crude.sort_index()\n",
    "df_crude.head()"
   ]
  },
  {
   "cell_type": "code",
   "execution_count": 3,
   "id": "8daf14d3",
   "metadata": {
    "ExecuteTime": {
     "end_time": "2022-06-07T03:56:26.139697Z",
     "start_time": "2022-06-07T03:56:25.890171Z"
    }
   },
   "outputs": [
    {
     "data": {
      "text/html": [
       "<div>\n",
       "<style scoped>\n",
       "    .dataframe tbody tr th:only-of-type {\n",
       "        vertical-align: middle;\n",
       "    }\n",
       "\n",
       "    .dataframe tbody tr th {\n",
       "        vertical-align: top;\n",
       "    }\n",
       "\n",
       "    .dataframe thead th {\n",
       "        text-align: right;\n",
       "    }\n",
       "</style>\n",
       "<table border=\"1\" class=\"dataframe\">\n",
       "  <thead>\n",
       "    <tr style=\"text-align: right;\">\n",
       "      <th></th>\n",
       "      <th>Price</th>\n",
       "      <th>Open</th>\n",
       "      <th>High</th>\n",
       "      <th>Low</th>\n",
       "      <th>Vol.</th>\n",
       "      <th>Change %</th>\n",
       "    </tr>\n",
       "    <tr>\n",
       "      <th>Date</th>\n",
       "      <th></th>\n",
       "      <th></th>\n",
       "      <th></th>\n",
       "      <th></th>\n",
       "      <th></th>\n",
       "      <th></th>\n",
       "    </tr>\n",
       "  </thead>\n",
       "  <tbody>\n",
       "    <tr>\n",
       "      <th>2014-04-28</th>\n",
       "      <td>79.762</td>\n",
       "      <td>79.805</td>\n",
       "      <td>79.910</td>\n",
       "      <td>79.615</td>\n",
       "      <td>11.60K</td>\n",
       "      <td>-0.07%</td>\n",
       "    </tr>\n",
       "    <tr>\n",
       "      <th>2014-04-29</th>\n",
       "      <td>79.881</td>\n",
       "      <td>79.760</td>\n",
       "      <td>79.920</td>\n",
       "      <td>79.660</td>\n",
       "      <td>10.32K</td>\n",
       "      <td>0.15%</td>\n",
       "    </tr>\n",
       "    <tr>\n",
       "      <th>2014-04-30</th>\n",
       "      <td>79.532</td>\n",
       "      <td>79.865</td>\n",
       "      <td>80.020</td>\n",
       "      <td>79.510</td>\n",
       "      <td>21.87K</td>\n",
       "      <td>-0.44%</td>\n",
       "    </tr>\n",
       "    <tr>\n",
       "      <th>2014-05-01</th>\n",
       "      <td>79.579</td>\n",
       "      <td>79.570</td>\n",
       "      <td>79.605</td>\n",
       "      <td>79.480</td>\n",
       "      <td>7.32K</td>\n",
       "      <td>0.06%</td>\n",
       "    </tr>\n",
       "    <tr>\n",
       "      <th>2014-05-02</th>\n",
       "      <td>79.563</td>\n",
       "      <td>79.560</td>\n",
       "      <td>79.935</td>\n",
       "      <td>79.515</td>\n",
       "      <td>23.76K</td>\n",
       "      <td>-0.02%</td>\n",
       "    </tr>\n",
       "  </tbody>\n",
       "</table>\n",
       "</div>"
      ],
      "text/plain": [
       "             Price    Open    High     Low    Vol. Change %\n",
       "Date                                                       \n",
       "2014-04-28  79.762  79.805  79.910  79.615  11.60K   -0.07%\n",
       "2014-04-29  79.881  79.760  79.920  79.660  10.32K    0.15%\n",
       "2014-04-30  79.532  79.865  80.020  79.510  21.87K   -0.44%\n",
       "2014-05-01  79.579  79.570  79.605  79.480   7.32K    0.06%\n",
       "2014-05-02  79.563  79.560  79.935  79.515  23.76K   -0.02%"
      ]
     },
     "execution_count": 3,
     "metadata": {},
     "output_type": "execute_result"
    }
   ],
   "source": [
    "#USD exchange rate\n",
    "df_dollar = pd.read_csv('final-proj-data/data/us_dollar_index.csv', index_col=0)\n",
    "df_dollar.index = pd.to_datetime(df_dollar.index)\n",
    "df_dollar = df_dollar.sort_index()\n",
    "df_dollar.head()"
   ]
  },
  {
   "cell_type": "code",
   "execution_count": 4,
   "id": "2a5ce347",
   "metadata": {
    "ExecuteTime": {
     "end_time": "2022-06-07T03:56:26.154240Z",
     "start_time": "2022-06-07T03:56:26.141145Z"
    }
   },
   "outputs": [
    {
     "data": {
      "text/html": [
       "<div>\n",
       "<style scoped>\n",
       "    .dataframe tbody tr th:only-of-type {\n",
       "        vertical-align: middle;\n",
       "    }\n",
       "\n",
       "    .dataframe tbody tr th {\n",
       "        vertical-align: top;\n",
       "    }\n",
       "\n",
       "    .dataframe thead th {\n",
       "        text-align: right;\n",
       "    }\n",
       "</style>\n",
       "<table border=\"1\" class=\"dataframe\">\n",
       "  <thead>\n",
       "    <tr style=\"text-align: right;\">\n",
       "      <th></th>\n",
       "      <th>Open</th>\n",
       "      <th>High</th>\n",
       "      <th>Low</th>\n",
       "      <th>Close</th>\n",
       "    </tr>\n",
       "    <tr>\n",
       "      <th>Date</th>\n",
       "      <th></th>\n",
       "      <th></th>\n",
       "      <th></th>\n",
       "      <th></th>\n",
       "    </tr>\n",
       "  </thead>\n",
       "  <tbody>\n",
       "    <tr>\n",
       "      <th>2014-04-28</th>\n",
       "      <td>311.02</td>\n",
       "      <td>311.57</td>\n",
       "      <td>309.50</td>\n",
       "      <td>309.84</td>\n",
       "    </tr>\n",
       "    <tr>\n",
       "      <th>2014-04-29</th>\n",
       "      <td>310.57</td>\n",
       "      <td>311.98</td>\n",
       "      <td>310.19</td>\n",
       "      <td>311.85</td>\n",
       "    </tr>\n",
       "    <tr>\n",
       "      <th>2014-04-30</th>\n",
       "      <td>310.35</td>\n",
       "      <td>310.67</td>\n",
       "      <td>308.96</td>\n",
       "      <td>309.53</td>\n",
       "    </tr>\n",
       "    <tr>\n",
       "      <th>2014-05-01</th>\n",
       "      <td>307.99</td>\n",
       "      <td>308.06</td>\n",
       "      <td>306.85</td>\n",
       "      <td>306.98</td>\n",
       "    </tr>\n",
       "    <tr>\n",
       "      <th>2014-05-02</th>\n",
       "      <td>307.41</td>\n",
       "      <td>307.92</td>\n",
       "      <td>306.79</td>\n",
       "      <td>307.14</td>\n",
       "    </tr>\n",
       "  </tbody>\n",
       "</table>\n",
       "</div>"
      ],
      "text/plain": [
       "              Open    High     Low   Close\n",
       "Date                                      \n",
       "2014-04-28  311.02  311.57  309.50  309.84\n",
       "2014-04-29  310.57  311.98  310.19  311.85\n",
       "2014-04-30  310.35  310.67  308.96  309.53\n",
       "2014-05-01  307.99  308.06  306.85  306.98\n",
       "2014-05-02  307.41  307.92  306.79  307.14"
      ]
     },
     "execution_count": 4,
     "metadata": {},
     "output_type": "execute_result"
    }
   ],
   "source": [
    "df_comm = pd.read_csv('final-proj-data/data/crb_commodity_index.csv', index_col=0)\n",
    "df_comm.index = pd.to_datetime(df_comm.index)\n",
    "df_comm = df_comm.sort_index()\n",
    "df_comm.head()"
   ]
  },
  {
   "cell_type": "code",
   "execution_count": 5,
   "id": "9fd100ed",
   "metadata": {
    "ExecuteTime": {
     "end_time": "2022-06-07T03:56:26.165792Z",
     "start_time": "2022-06-07T03:56:26.156521Z"
    }
   },
   "outputs": [
    {
     "data": {
      "text/plain": [
       "Day\n",
       "2014-04-28    18\n",
       "2014-04-29    15\n",
       "2014-04-30    15\n",
       "2014-05-01    19\n",
       "2014-05-02    14\n",
       "Name: crude oil: (Worldwide), dtype: int64"
      ]
     },
     "execution_count": 5,
     "metadata": {},
     "output_type": "execute_result"
    }
   ],
   "source": [
    "#google trend\n",
    "df_google = pd.read_csv('final-proj-data/data/crude-oil-daily-2014-2022.csv', index_col=1).iloc[:,-1]\n",
    "df_google.index = pd.to_datetime(df_google.index)\n",
    "df_google = df_google.sort_index()\n",
    "df_google.head()"
   ]
  },
  {
   "cell_type": "code",
   "execution_count": 6,
   "id": "5606e870",
   "metadata": {
    "ExecuteTime": {
     "end_time": "2022-06-07T03:56:26.191115Z",
     "start_time": "2022-06-07T03:56:26.167409Z"
    }
   },
   "outputs": [
    {
     "data": {
      "text/html": [
       "<div>\n",
       "<style scoped>\n",
       "    .dataframe tbody tr th:only-of-type {\n",
       "        vertical-align: middle;\n",
       "    }\n",
       "\n",
       "    .dataframe tbody tr th {\n",
       "        vertical-align: top;\n",
       "    }\n",
       "\n",
       "    .dataframe thead th {\n",
       "        text-align: right;\n",
       "    }\n",
       "</style>\n",
       "<table border=\"1\" class=\"dataframe\">\n",
       "  <thead>\n",
       "    <tr style=\"text-align: right;\">\n",
       "      <th></th>\n",
       "      <th>crude</th>\n",
       "      <th>dollar</th>\n",
       "      <th>commodity_ind</th>\n",
       "      <th>google_trend</th>\n",
       "    </tr>\n",
       "  </thead>\n",
       "  <tbody>\n",
       "    <tr>\n",
       "      <th>2014-04-28</th>\n",
       "      <td>104.00</td>\n",
       "      <td>79.762</td>\n",
       "      <td>309.8400</td>\n",
       "      <td>18</td>\n",
       "    </tr>\n",
       "    <tr>\n",
       "      <th>2014-04-29</th>\n",
       "      <td>104.00</td>\n",
       "      <td>79.881</td>\n",
       "      <td>311.8500</td>\n",
       "      <td>15</td>\n",
       "    </tr>\n",
       "    <tr>\n",
       "      <th>2014-04-30</th>\n",
       "      <td>104.00</td>\n",
       "      <td>79.532</td>\n",
       "      <td>309.5300</td>\n",
       "      <td>15</td>\n",
       "    </tr>\n",
       "    <tr>\n",
       "      <th>2014-05-01</th>\n",
       "      <td>104.00</td>\n",
       "      <td>79.579</td>\n",
       "      <td>306.9800</td>\n",
       "      <td>19</td>\n",
       "    </tr>\n",
       "    <tr>\n",
       "      <th>2014-05-02</th>\n",
       "      <td>104.00</td>\n",
       "      <td>79.563</td>\n",
       "      <td>307.1400</td>\n",
       "      <td>14</td>\n",
       "    </tr>\n",
       "    <tr>\n",
       "      <th>...</th>\n",
       "      <td>...</td>\n",
       "      <td>...</td>\n",
       "      <td>...</td>\n",
       "      <td>...</td>\n",
       "    </tr>\n",
       "    <tr>\n",
       "      <th>2022-05-29</th>\n",
       "      <td>NaN</td>\n",
       "      <td>NaN</td>\n",
       "      <td>NaN</td>\n",
       "      <td>9</td>\n",
       "    </tr>\n",
       "    <tr>\n",
       "      <th>2022-05-30</th>\n",
       "      <td>NaN</td>\n",
       "      <td>101.305</td>\n",
       "      <td>NaN</td>\n",
       "      <td>17</td>\n",
       "    </tr>\n",
       "    <tr>\n",
       "      <th>2022-05-31</th>\n",
       "      <td>108.13</td>\n",
       "      <td>101.766</td>\n",
       "      <td>316.5352</td>\n",
       "      <td>22</td>\n",
       "    </tr>\n",
       "    <tr>\n",
       "      <th>2022-06-01</th>\n",
       "      <td>110.91</td>\n",
       "      <td>102.529</td>\n",
       "      <td>320.0229</td>\n",
       "      <td>22</td>\n",
       "    </tr>\n",
       "    <tr>\n",
       "      <th>2022-06-02</th>\n",
       "      <td>112.02</td>\n",
       "      <td>101.832</td>\n",
       "      <td>323.0986</td>\n",
       "      <td>23</td>\n",
       "    </tr>\n",
       "  </tbody>\n",
       "</table>\n",
       "<p>2958 rows × 4 columns</p>\n",
       "</div>"
      ],
      "text/plain": [
       "             crude   dollar  commodity_ind  google_trend\n",
       "2014-04-28  104.00   79.762       309.8400            18\n",
       "2014-04-29  104.00   79.881       311.8500            15\n",
       "2014-04-30  104.00   79.532       309.5300            15\n",
       "2014-05-01  104.00   79.579       306.9800            19\n",
       "2014-05-02  104.00   79.563       307.1400            14\n",
       "...            ...      ...            ...           ...\n",
       "2022-05-29     NaN      NaN            NaN             9\n",
       "2022-05-30     NaN  101.305            NaN            17\n",
       "2022-05-31  108.13  101.766       316.5352            22\n",
       "2022-06-01  110.91  102.529       320.0229            22\n",
       "2022-06-02  112.02  101.832       323.0986            23\n",
       "\n",
       "[2958 rows x 4 columns]"
      ]
     },
     "execution_count": 6,
     "metadata": {},
     "output_type": "execute_result"
    }
   ],
   "source": [
    "#consolidated dataframe\n",
    "df_conso = pd.concat([\n",
    "           df_crude.loc[\"2014-04-28\":\"2022-06-02\"]['Price'], \n",
    "           df_dollar.loc[\"2014-04-28\":\"2022-06-02\"]['Price'],\n",
    "           df_comm.loc[\"2014-04-28\":\"2022-06-02\"]['Close'],\n",
    "           df_google\n",
    "        ], axis=1)\n",
    "df_conso.columns = ['crude', 'dollar', 'commodity_ind', 'google_trend']\n",
    "df_conso"
   ]
  },
  {
   "cell_type": "markdown",
   "id": "bfc9e94c",
   "metadata": {},
   "source": [
    "### 1.1 Treat missing values\n",
    "\n",
    "We first check for presense of missing values. We drop all dates without crude prices to only consider weekdays in our forecast. We also start from July 14, 2014 since there is no variability in price prior to the date. We then apply linear imputation method to fill in other missing values."
   ]
  },
  {
   "cell_type": "code",
   "execution_count": 7,
   "id": "5e87a7ce",
   "metadata": {
    "ExecuteTime": {
     "end_time": "2022-06-07T03:56:26.197915Z",
     "start_time": "2022-06-07T03:56:26.192624Z"
    }
   },
   "outputs": [
    {
     "data": {
      "text/plain": [
       "crude            921\n",
       "dollar           865\n",
       "commodity_ind    914\n",
       "google_trend       0\n",
       "dtype: int64"
      ]
     },
     "execution_count": 7,
     "metadata": {},
     "output_type": "execute_result"
    }
   ],
   "source": [
    "df_conso.isna().sum()"
   ]
  },
  {
   "cell_type": "code",
   "execution_count": 8,
   "id": "d999870d",
   "metadata": {
    "ExecuteTime": {
     "end_time": "2022-06-07T03:56:26.208210Z",
     "start_time": "2022-06-07T03:56:26.199709Z"
    }
   },
   "outputs": [
    {
     "data": {
      "text/plain": [
       "crude            0\n",
       "dollar           0\n",
       "commodity_ind    1\n",
       "google_trend     0\n",
       "dtype: int64"
      ]
     },
     "execution_count": 8,
     "metadata": {},
     "output_type": "execute_result"
    }
   ],
   "source": [
    "df_conso = df_conso.dropna(subset=['crude']).loc[\"2014-07-14\":]\n",
    "df_conso.isna().sum()"
   ]
  },
  {
   "cell_type": "code",
   "execution_count": 9,
   "id": "73f22d89",
   "metadata": {
    "ExecuteTime": {
     "end_time": "2022-06-07T03:56:26.213438Z",
     "start_time": "2022-06-07T03:56:26.209830Z"
    }
   },
   "outputs": [],
   "source": [
    "#Impute using linear method then visualize\n",
    "df_conso = df_conso.interpolate(method='linear')"
   ]
  },
  {
   "cell_type": "markdown",
   "id": "e8cb3a0e",
   "metadata": {},
   "source": [
    "### 1.2 Visualize the time series"
   ]
  },
  {
   "cell_type": "code",
   "execution_count": 10,
   "id": "77677c93",
   "metadata": {
    "ExecuteTime": {
     "end_time": "2022-06-07T03:56:26.901188Z",
     "start_time": "2022-06-07T03:56:26.214949Z"
    }
   },
   "outputs": [
    {
     "data": {
      "image/png": "[encoded data removed]",
      "text/plain": [
       "<Figure size 432x288 with 1 Axes>"
      ]
     },
     "metadata": {
      "needs_background": "light"
     },
     "output_type": "display_data"
    },
    {
     "data": {
      "image/png": "[encoded data removed]",
      "text/plain": [
       "<Figure size 432x288 with 1 Axes>"
      ]
     },
     "metadata": {
      "needs_background": "light"
     },
     "output_type": "display_data"
    },
    {
     "data": {
      "image/png": "[encoded data removed]",
      "text/plain": [
       "<Figure size 432x288 with 1 Axes>"
      ]
     },
     "metadata": {
      "needs_background": "light"
     },
     "output_type": "display_data"
    },
    {
     "data": {
      "image/png": "[encoded data removed]",
      "text/plain": [
       "<Figure size 432x288 with 1 Axes>"
      ]
     },
     "metadata": {
      "needs_background": "light"
     },
     "output_type": "display_data"
    }
   ],
   "source": [
    "for axs, i in enumerate(df_conso.columns):\n",
    "    df_conso.loc[:,i].plot(ax=plt.gca())\n",
    "    plt.title(i)\n",
    "    plt.xlabel(\"Date\")\n",
    "    plt.show()"
   ]
  },
  {
   "cell_type": "markdown",
   "id": "2da86a71",
   "metadata": {},
   "source": [
    "### 1.3. Check for trends and seasonality\n",
    "\n",
    "We check for presence of trend and seasonality. Based on ACF plot, there is a decreasing trend but there appears no seasonality. To confirm this, we check yearly plots of oil prices and see that there is indeed no yearly seasonality."
   ]
  },
  {
   "cell_type": "code",
   "execution_count": 11,
   "id": "42a24bc3",
   "metadata": {
    "ExecuteTime": {
     "end_time": "2022-06-07T03:56:27.035228Z",
     "start_time": "2022-06-07T03:56:26.903204Z"
    }
   },
   "outputs": [
    {
     "data": {
      "image/png": "[encoded data removed]",
      "text/plain": [
       "<Figure size 432x288 with 1 Axes>"
      ]
     },
     "metadata": {
      "needs_background": "light"
     },
     "output_type": "display_data"
    }
   ],
   "source": [
    "plot_acf(df_conso.crude, lags=300)\n",
    "plt.show()"
   ]
  },
  {
   "cell_type": "code",
   "execution_count": 12,
   "id": "29d8168c",
   "metadata": {
    "ExecuteTime": {
     "end_time": "2022-06-07T03:56:27.570167Z",
     "start_time": "2022-06-07T03:56:27.037011Z"
    }
   },
   "outputs": [
    {
     "data": {
      "image/png": "[encoded data removed]",
      "text/plain": [
       "<Figure size 1080x360 with 4 Axes>"
      ]
     },
     "metadata": {
      "needs_background": "light"
     },
     "output_type": "display_data"
    }
   ],
   "source": [
    "fig, ax = plt.subplots(2, 2, figsize=(15,5))\n",
    "ax[0, 0].plot(df_conso.crude.loc[\"2015-01-01\":\"2016-01-01\"], 'r') \n",
    "ax[0, 1].plot(df_conso.crude.loc[\"2016-01-01\":\"2017-01-01\"], 'b') \n",
    "ax[1, 0].plot(df_conso.crude.loc[\"2017-01-01\":\"2018-01-01\"], 'g') \n",
    "ax[1, 1].plot(df_conso.crude.loc[\"2018-01-01\":\"2019-01-01\"], 'k') \n",
    "plt.show()"
   ]
  },
  {
   "cell_type": "markdown",
   "id": "5516c68e",
   "metadata": {},
   "source": [
    "## 2. Forecasting with Baselines\n",
    "\n",
    "We perform the following forecasts to serve as our baseline:\n",
    "1. Mean forecast\n",
    "2. Naive forecast"
   ]
  },
  {
   "cell_type": "code",
   "execution_count": 13,
   "id": "6074ea99",
   "metadata": {
    "ExecuteTime": {
     "end_time": "2022-06-07T03:56:27.767349Z",
     "start_time": "2022-06-07T03:56:27.572033Z"
    }
   },
   "outputs": [
    {
     "data": {
      "image/png": "[encoded data removed]",
      "text/plain": [
       "<Figure size 1080x360 with 1 Axes>"
      ]
     },
     "metadata": {
      "needs_background": "light"
     },
     "output_type": "display_data"
    }
   ],
   "source": [
    "#Visualize\n",
    "test_size = 10\n",
    "df_train = df_conso.iloc[:-test_size, 0]\n",
    "df_test = df_conso.iloc[-test_size:, 0]\n",
    "h = test_size\n",
    "\n",
    "df_f = pd.DataFrame()\n",
    "df_f['Mean'] = meanf(df_train.to_numpy(), h=h)\n",
    "df_f['Naive'] = naivef(df_train.to_numpy(), h=h)\n",
    "df_f.index = df_test.index\n",
    "\n",
    "fig, ax = plt.subplots(figsize=(15,5))\n",
    "df_test.plot(ax=ax, legend=False, color='black', style='--')\n",
    "df_f.plot(ax=ax)\n",
    "plt.title('Dubai Crude Oil Price')\n",
    "plt.xlabel('Date')\n",
    "plt.ylabel('Price')\n",
    "plt.autoscale()\n",
    "plt.show()"
   ]
  },
  {
   "cell_type": "code",
   "execution_count": 14,
   "id": "1a6ae647",
   "metadata": {
    "ExecuteTime": {
     "end_time": "2022-06-07T03:56:27.780000Z",
     "start_time": "2022-06-07T03:56:27.770903Z"
    }
   },
   "outputs": [
    {
     "data": {
      "text/html": [
       "<div>\n",
       "<style scoped>\n",
       "    .dataframe tbody tr th:only-of-type {\n",
       "        vertical-align: middle;\n",
       "    }\n",
       "\n",
       "    .dataframe tbody tr th {\n",
       "        vertical-align: top;\n",
       "    }\n",
       "\n",
       "    .dataframe thead th {\n",
       "        text-align: right;\n",
       "    }\n",
       "</style>\n",
       "<table border=\"1\" class=\"dataframe\">\n",
       "  <thead>\n",
       "    <tr style=\"text-align: right;\">\n",
       "      <th></th>\n",
       "      <th>RMSE</th>\n",
       "      <th>MAE</th>\n",
       "      <th>MAPE</th>\n",
       "    </tr>\n",
       "  </thead>\n",
       "  <tbody>\n",
       "    <tr>\n",
       "      <th>Mean</th>\n",
       "      <td>48.548013</td>\n",
       "      <td>48.519386</td>\n",
       "      <td>44.816666</td>\n",
       "    </tr>\n",
       "    <tr>\n",
       "      <th>Naive</th>\n",
       "      <td>3.173993</td>\n",
       "      <td>2.701000</td>\n",
       "      <td>2.472956</td>\n",
       "    </tr>\n",
       "  </tbody>\n",
       "</table>\n",
       "</div>"
      ],
      "text/plain": [
       "            RMSE        MAE       MAPE\n",
       "Mean   48.548013  48.519386  44.816666\n",
       "Naive   3.173993   2.701000   2.472956"
      ]
     },
     "metadata": {},
     "output_type": "display_data"
    }
   ],
   "source": [
    "#Validation metrics\n",
    "error_metrics()"
   ]
  },
  {
   "cell_type": "markdown",
   "id": "1f684188",
   "metadata": {},
   "source": [
    "## 3. Forecasting\n",
    "\n",
    "### 3.1 Implementing Exponential Smoothing Models\n",
    "\n",
    "We first explore forecasting using traditional univariate models such as ETS. We perform TSCV to hypertune the trend, seasonality, and damped parameter of ETS models. We divide the dataset into a train and validation set where we arrive at 11 TSCV splits."
   ]
  },
  {
   "cell_type": "code",
   "execution_count": 15,
   "id": "1e9dfc9f",
   "metadata": {
    "ExecuteTime": {
     "end_time": "2022-06-07T03:56:27.785132Z",
     "start_time": "2022-06-07T03:56:27.781616Z"
    }
   },
   "outputs": [],
   "source": [
    "#set validation set\n",
    "val_size = 20\n",
    "ts_train = df_train.iloc[:-val_size]\n",
    "ts_val = df_train.iloc[-val_size:]"
   ]
  },
  {
   "cell_type": "code",
   "execution_count": 16,
   "id": "031edd7d",
   "metadata": {
    "ExecuteTime": {
     "end_time": "2022-06-07T03:58:50.001269Z",
     "start_time": "2022-06-07T03:56:27.786696Z"
    }
   },
   "outputs": [
    {
     "data": {
      "text/html": [
       "<div>\n",
       "<style scoped>\n",
       "    .dataframe tbody tr th:only-of-type {\n",
       "        vertical-align: middle;\n",
       "    }\n",
       "\n",
       "    .dataframe tbody tr th {\n",
       "        vertical-align: top;\n",
       "    }\n",
       "\n",
       "    .dataframe thead th {\n",
       "        text-align: right;\n",
       "    }\n",
       "</style>\n",
       "<table border=\"1\" class=\"dataframe\">\n",
       "  <thead>\n",
       "    <tr style=\"text-align: right;\">\n",
       "      <th></th>\n",
       "      <th>ets_param_trend_season_damp</th>\n",
       "      <th>Avg. RMSE</th>\n",
       "    </tr>\n",
       "  </thead>\n",
       "  <tbody>\n",
       "    <tr>\n",
       "      <th>0</th>\n",
       "      <td>(add, add, True)</td>\n",
       "      <td>2.215593</td>\n",
       "    </tr>\n",
       "    <tr>\n",
       "      <th>1</th>\n",
       "      <td>(add, add, False)</td>\n",
       "      <td>2.441580</td>\n",
       "    </tr>\n",
       "    <tr>\n",
       "      <th>2</th>\n",
       "      <td>(add, mul, True)</td>\n",
       "      <td>2.441580</td>\n",
       "    </tr>\n",
       "    <tr>\n",
       "      <th>3</th>\n",
       "      <td>(add, mul, False)</td>\n",
       "      <td>2.441580</td>\n",
       "    </tr>\n",
       "    <tr>\n",
       "      <th>4</th>\n",
       "      <td>(add, None, True)</td>\n",
       "      <td>2.399185</td>\n",
       "    </tr>\n",
       "    <tr>\n",
       "      <th>5</th>\n",
       "      <td>(add, None, False)</td>\n",
       "      <td>2.299065</td>\n",
       "    </tr>\n",
       "    <tr>\n",
       "      <th>6</th>\n",
       "      <td>(None, add, False)</td>\n",
       "      <td>2.281782</td>\n",
       "    </tr>\n",
       "    <tr>\n",
       "      <th>7</th>\n",
       "      <td>(None, mul, False)</td>\n",
       "      <td>2.281782</td>\n",
       "    </tr>\n",
       "    <tr>\n",
       "      <th>8</th>\n",
       "      <td>(None, None, False)</td>\n",
       "      <td>2.280139</td>\n",
       "    </tr>\n",
       "  </tbody>\n",
       "</table>\n",
       "</div>"
      ],
      "text/plain": [
       "  ets_param_trend_season_damp  Avg. RMSE\n",
       "0            (add, add, True)   2.215593\n",
       "1           (add, add, False)   2.441580\n",
       "2            (add, mul, True)   2.441580\n",
       "3           (add, mul, False)   2.441580\n",
       "4           (add, None, True)   2.399185\n",
       "5          (add, None, False)   2.299065\n",
       "6          (None, add, False)   2.281782\n",
       "7          (None, mul, False)   2.281782\n",
       "8         (None, None, False)   2.280139"
      ]
     },
     "execution_count": 16,
     "metadata": {},
     "output_type": "execute_result"
    }
   ],
   "source": [
    "#ETS configurations \n",
    "trend_grid = [\"add\", None] #None additive damped\n",
    "seasonal_grid = [\"add\", \"mul\", None] #None additive mul\n",
    "damped_grid = [True, False]\n",
    "ets_grid = list(itertools.product(trend_grid, seasonal_grid, damped_grid))\n",
    "\n",
    "#allow dumped trend only if with trend\n",
    "for i in ets_grid:\n",
    "    if i[0] == None:\n",
    "        if i[2] == True:\n",
    "            ets_grid.remove(i)\n",
    "\n",
    "df_results_ets = pd.DataFrame({'ets_param_trend_season_damp': ets_grid, 'Avg. RMSE': np.zeros(len(ets_grid))})\n",
    "rmse_list = []\n",
    "for conf in ets_grid:\n",
    "    trend = conf[0]\n",
    "    season = conf[1]\n",
    "    damped = conf[2]\n",
    "    for i in range(val_size - h + 1):\n",
    "        last = str(ts_val.index[i:][0]).split()[0] #first validation pt\n",
    "        x_train = df_train[:last][:-1]\n",
    "        y_val = ts_val[i:][:h]\n",
    "        #while we dont have a known seasonal period, we added yearly seasonality for cv purposes\n",
    "        model = ExponentialSmoothing(x_train, trend=trend, seasonal=season, \n",
    "                                     damped_trend=damped, seasonal_periods=251).fit(optimized=True)\n",
    "        y_pred = model.forecast(h)\n",
    "        \n",
    "        if np.isnan(y_pred.values[0]):\n",
    "            continue\n",
    "        else:\n",
    "            rmse_list.append(rmse(y_val.to_numpy(), y_pred))\n",
    "    # avg error\n",
    "    df_results_ets.loc[df_results_ets['ets_param_trend_season_damp'] == conf, 'Avg. RMSE'] = np.mean(rmse_list)\n",
    "    \n",
    "df_results_ets"
   ]
  },
  {
   "cell_type": "markdown",
   "id": "489e8a04",
   "metadata": {},
   "source": [
    "Based on TSCV, we select the best ETS model and evaluate it against the test set. In this case, the best ETS model is the additive damped trend and additive seasonality method."
   ]
  },
  {
   "cell_type": "code",
   "execution_count": 17,
   "id": "e7e781be",
   "metadata": {
    "ExecuteTime": {
     "end_time": "2022-06-07T03:58:52.510119Z",
     "start_time": "2022-06-07T03:58:50.003319Z"
    }
   },
   "outputs": [
    {
     "data": {
      "text/html": [
       "<div>\n",
       "<style scoped>\n",
       "    .dataframe tbody tr th:only-of-type {\n",
       "        vertical-align: middle;\n",
       "    }\n",
       "\n",
       "    .dataframe tbody tr th {\n",
       "        vertical-align: top;\n",
       "    }\n",
       "\n",
       "    .dataframe thead th {\n",
       "        text-align: right;\n",
       "    }\n",
       "</style>\n",
       "<table border=\"1\" class=\"dataframe\">\n",
       "  <thead>\n",
       "    <tr style=\"text-align: right;\">\n",
       "      <th></th>\n",
       "      <th>RMSE</th>\n",
       "      <th>MAE</th>\n",
       "      <th>MAPE</th>\n",
       "    </tr>\n",
       "  </thead>\n",
       "  <tbody>\n",
       "    <tr>\n",
       "      <th>Mean</th>\n",
       "      <td>48.548013</td>\n",
       "      <td>48.519386</td>\n",
       "      <td>44.816666</td>\n",
       "    </tr>\n",
       "    <tr>\n",
       "      <th>Naive</th>\n",
       "      <td>3.173993</td>\n",
       "      <td>2.701000</td>\n",
       "      <td>2.472956</td>\n",
       "    </tr>\n",
       "    <tr>\n",
       "      <th>ETS @ ('add', 'add', True)</th>\n",
       "      <td>3.303630</td>\n",
       "      <td>2.834524</td>\n",
       "      <td>2.596515</td>\n",
       "    </tr>\n",
       "  </tbody>\n",
       "</table>\n",
       "</div>"
      ],
      "text/plain": [
       "                                 RMSE        MAE       MAPE\n",
       "Mean                        48.548013  48.519386  44.816666\n",
       "Naive                        3.173993   2.701000   2.472956\n",
       "ETS @ ('add', 'add', True)   3.303630   2.834524   2.596515"
      ]
     },
     "metadata": {},
     "output_type": "display_data"
    }
   ],
   "source": [
    "best_ets_conf = df_results_ets.sort_values(by='Avg. RMSE').iloc[0]['ets_param_trend_season_damp']\n",
    "trend = best_ets_conf[0]\n",
    "season = best_ets_conf[1]\n",
    "damped = best_ets_conf[2]\n",
    "model = ExponentialSmoothing(df_train, trend=trend, seasonal=season, \n",
    "                                     damped_trend=damped, seasonal_periods=251).fit(optimized=True)\n",
    "y_pred = model.forecast(h)\n",
    "df_f[f'ETS @ {best_ets_conf}'] = model.forecast(h).to_numpy()\n",
    "\n",
    "#Show validation metrics\n",
    "error_metrics()"
   ]
  },
  {
   "cell_type": "markdown",
   "id": "ec33883c",
   "metadata": {},
   "source": [
    "### 3.2 Implementing a machine learning model\n",
    "\n",
    "We apply supervised ML using LightGBM and direct forecasting to generate h predictions. We perform cross validation on the lookback period based on RMSE."
   ]
  },
  {
   "cell_type": "code",
   "execution_count": 18,
   "id": "e09ea225",
   "metadata": {
    "ExecuteTime": {
     "end_time": "2022-06-07T03:58:52.519103Z",
     "start_time": "2022-06-07T03:58:52.511962Z"
    }
   },
   "outputs": [],
   "source": [
    "def train_test_split(df_data, w, h, test_size, features):\n",
    "\n",
    "    ### Train-Test split from DataFrame ###\n",
    "    \n",
    "    ### Exogenous Variables ###\n",
    "    feat_len = len(features)\n",
    "    df_series = df_data[features]\n",
    "    \n",
    "    split_time = df_series.shape[0] - test_size\n",
    "    \n",
    "    df_train = df_series.iloc[:split_time, :]\n",
    "    df_test = df_series.iloc[split_time - w:, :]\n",
    "\n",
    "    return df_train, df_test\n",
    "\n",
    "def create_xy(series, label, w, h, shuffle=False):\n",
    "    \n",
    "    ### Create (X,Y) from DataFrame ####\n",
    "    \n",
    "    x = []\n",
    "    y = []\n",
    "    for i in range(series.shape[0]):\n",
    "        if series.iloc[(i + w):(i + w + h), :].shape[0] < h:\n",
    "            break\n",
    "        x.append(series.iloc[i:(i + w), :])\n",
    "        y.append(series.iloc[(i + w):(i + w + h), :][label])\n",
    "    x = np.dstack(x)\n",
    "    y = np.dstack(y)\n",
    "    \n",
    "    # Reshape x to (samples, features, lookback)\n",
    "    x = np.swapaxes(x, 0, 2)\n",
    "    \n",
    "    # Reshape x to (samples, horizon)\n",
    "    y = np.swapaxes(y, 0, 2)\n",
    "    y = y[:, :, 0]\n",
    "    \n",
    "    return x,y"
   ]
  },
  {
   "cell_type": "code",
   "execution_count": 19,
   "id": "9ff147fc",
   "metadata": {
    "ExecuteTime": {
     "end_time": "2022-06-07T04:00:41.500652Z",
     "start_time": "2022-06-07T03:58:52.520718Z"
    }
   },
   "outputs": [
    {
     "data": {
      "text/html": [
       "<div>\n",
       "<style scoped>\n",
       "    .dataframe tbody tr th:only-of-type {\n",
       "        vertical-align: middle;\n",
       "    }\n",
       "\n",
       "    .dataframe tbody tr th {\n",
       "        vertical-align: top;\n",
       "    }\n",
       "\n",
       "    .dataframe thead th {\n",
       "        text-align: right;\n",
       "    }\n",
       "</style>\n",
       "<table border=\"1\" class=\"dataframe\">\n",
       "  <thead>\n",
       "    <tr style=\"text-align: right;\">\n",
       "      <th></th>\n",
       "      <th>rmse</th>\n",
       "    </tr>\n",
       "  </thead>\n",
       "  <tbody>\n",
       "    <tr>\n",
       "      <th>44</th>\n",
       "      <td>5.805475</td>\n",
       "    </tr>\n",
       "    <tr>\n",
       "      <th>46</th>\n",
       "      <td>5.394159</td>\n",
       "    </tr>\n",
       "    <tr>\n",
       "      <th>48</th>\n",
       "      <td>5.263310</td>\n",
       "    </tr>\n",
       "    <tr>\n",
       "      <th>50</th>\n",
       "      <td>4.553234</td>\n",
       "    </tr>\n",
       "    <tr>\n",
       "      <th>52</th>\n",
       "      <td>4.030948</td>\n",
       "    </tr>\n",
       "    <tr>\n",
       "      <th>54</th>\n",
       "      <td>4.810821</td>\n",
       "    </tr>\n",
       "    <tr>\n",
       "      <th>56</th>\n",
       "      <td>4.655259</td>\n",
       "    </tr>\n",
       "    <tr>\n",
       "      <th>58</th>\n",
       "      <td>4.266230</td>\n",
       "    </tr>\n",
       "    <tr>\n",
       "      <th>60</th>\n",
       "      <td>5.106277</td>\n",
       "    </tr>\n",
       "    <tr>\n",
       "      <th>62</th>\n",
       "      <td>5.314719</td>\n",
       "    </tr>\n",
       "  </tbody>\n",
       "</table>\n",
       "</div>"
      ],
      "text/plain": [
       "        rmse\n",
       "44  5.805475\n",
       "46  5.394159\n",
       "48  5.263310\n",
       "50  4.553234\n",
       "52  4.030948\n",
       "54  4.810821\n",
       "56  4.655259\n",
       "58  4.266230\n",
       "60  5.106277\n",
       "62  5.314719"
      ]
     },
     "execution_count": 19,
     "metadata": {},
     "output_type": "execute_result"
    }
   ],
   "source": [
    "w_rmse = {}\n",
    "target = ['crude']\n",
    "features = ['crude', 'dollar', 'commodity_ind', 'google_trend']\n",
    "\n",
    "df_train_features = df_conso.iloc[:-test_size]\n",
    "# ts_train = df_conso.iloc[:-test_size]['crude']\n",
    "# ts_test = df_conso.iloc[-test_size:]['crude']\n",
    "for w in list(range(44,64,2)):\n",
    "    #cv\n",
    "    df_train_direct, df_val_direct = train_test_split(df_train_features, w, h, test_size, features)\n",
    "\n",
    "    train_x, train_y = create_xy(df_train_direct, target[0], w, h, shuffle=False)\n",
    "    test_x, test_y = create_xy(df_val_direct, target[0], w, h, shuffle=False)\n",
    "\n",
    "    train_x = train_x.reshape((train_x.shape[0], train_x.shape[1]*train_x.shape[2]))\n",
    "    test_x = test_x.reshape((test_x.shape[0], test_x.shape[1]*test_x.shape[2]))\n",
    "    model = MultiOutputRegressor(lgb.LGBMRegressor(), n_jobs = -1)\n",
    "    model.fit(train_x, train_y)\n",
    "    forecast_direct = model.predict(test_x).ravel()\n",
    "    w_rmse[w] = rmse(df_test, forecast_direct)\n",
    "df_lgbm = pd.DataFrame(w_rmse, index=['rmse']).T\n",
    "df_lgbm"
   ]
  },
  {
   "cell_type": "markdown",
   "id": "fe67f793",
   "metadata": {},
   "source": [
    "We set the lookback period is at 52 given the lowest RMSE. We compare forecasts across all models below where LightGBM with all exploratory variables perform the best."
   ]
  },
  {
   "cell_type": "code",
   "execution_count": 21,
   "id": "fd9c0467",
   "metadata": {
    "ExecuteTime": {
     "end_time": "2022-06-07T04:01:21.339104Z",
     "start_time": "2022-06-07T04:01:10.454318Z"
    }
   },
   "outputs": [
    {
     "data": {
      "text/plain": [
       "52"
      ]
     },
     "metadata": {},
     "output_type": "display_data"
    },
    {
     "name": "stdout",
     "output_type": "stream",
     "text": [
      "               Mean MAE: 48.5480 Celsius\n",
      "               Drift MAE: 3.1740 Celsius\n",
      "               ETS MAE: 3.3036 Celsius\n",
      "     LightGBM Direct MAE: 2.7228 Celsius\n"
     ]
    },
    {
     "data": {
      "image/png": "[encoded data removed]",
      "text/plain": [
       "<Figure size 1080x360 with 1 Axes>"
      ]
     },
     "metadata": {
      "needs_background": "light"
     },
     "output_type": "display_data"
    }
   ],
   "source": [
    "best_w = df_lgbm.sort_values('rmse').iloc[0].name\n",
    "display(best_w)\n",
    "\n",
    "df_train_direct, df_val_direct = train_test_split(df_conso, best_w, h, test_size, features)\n",
    "train_x, train_y = create_xy(df_train_direct, target[0], best_w, h, shuffle=False)\n",
    "test_x, test_y = create_xy(df_val_direct, target[0], best_w, h, shuffle=False)\n",
    "\n",
    "train_x = train_x.reshape((train_x.shape[0], train_x.shape[1]*train_x.shape[2]))\n",
    "test_x = test_x.reshape((test_x.shape[0], test_x.shape[1]*test_x.shape[2]))\n",
    "model = MultiOutputRegressor(lgb.LGBMRegressor(), n_jobs = -1)\n",
    "model.fit(train_x, train_y)\n",
    "forecast_direct = model.predict(test_x).ravel()\n",
    "df_f['LightGBM_direct'] = forecast_direct\n",
    "\n",
    "print('               Mean MAE: %.4f Celsius' % rmse(df_test, df_f['Mean'].to_numpy()))\n",
    "print('               Drift MAE: %.4f Celsius' % rmse(df_test, df_f['Naive'].to_numpy()))\n",
    "print('               ETS MAE: %.4f Celsius' % rmse(df_test, df_f[\"ETS @ ('add', 'add', True)\"].to_numpy()))\n",
    "print('     LightGBM Direct MAE: %.4f Celsius' % rmse(df_test, forecast_direct))\n",
    "\n",
    "ax = df_test.plot(figsize=(15,5), label='Test')\n",
    "# plt.plot(ts_test.index, df_f['Mean'].to_numpy(), linestyle = '--', label='Mean')\n",
    "plt.plot(df_test.index, df_f['Naive'].to_numpy(), linestyle = '--', label='Drift')\n",
    "plt.plot(df_test.index, df_f[\"ETS @ ('add', 'add', True)\"].to_numpy(), linestyle = '--', label='ETS')\n",
    "plt.plot(df_test.index, forecast_direct, linestyle = '--', label='LightGBM Direct')\n",
    "ax.autoscale()\n",
    "ax.legend()\n",
    "plt.show()"
   ]
  },
  {
   "cell_type": "code",
   "execution_count": 22,
   "id": "cb2d7d69",
   "metadata": {
    "ExecuteTime": {
     "end_time": "2022-06-07T04:01:22.571782Z",
     "start_time": "2022-06-07T04:01:22.556436Z"
    }
   },
   "outputs": [
    {
     "data": {
      "text/html": [
       "<div>\n",
       "<style scoped>\n",
       "    .dataframe tbody tr th:only-of-type {\n",
       "        vertical-align: middle;\n",
       "    }\n",
       "\n",
       "    .dataframe tbody tr th {\n",
       "        vertical-align: top;\n",
       "    }\n",
       "\n",
       "    .dataframe thead th {\n",
       "        text-align: right;\n",
       "    }\n",
       "</style>\n",
       "<table border=\"1\" class=\"dataframe\">\n",
       "  <thead>\n",
       "    <tr style=\"text-align: right;\">\n",
       "      <th></th>\n",
       "      <th>RMSE</th>\n",
       "      <th>MAE</th>\n",
       "      <th>MAPE</th>\n",
       "    </tr>\n",
       "  </thead>\n",
       "  <tbody>\n",
       "    <tr>\n",
       "      <th>Mean</th>\n",
       "      <td>48.548013</td>\n",
       "      <td>48.519386</td>\n",
       "      <td>44.816666</td>\n",
       "    </tr>\n",
       "    <tr>\n",
       "      <th>Naive</th>\n",
       "      <td>3.173993</td>\n",
       "      <td>2.701000</td>\n",
       "      <td>2.472956</td>\n",
       "    </tr>\n",
       "    <tr>\n",
       "      <th>ETS @ ('add', 'add', True)</th>\n",
       "      <td>3.303630</td>\n",
       "      <td>2.834524</td>\n",
       "      <td>2.596515</td>\n",
       "    </tr>\n",
       "    <tr>\n",
       "      <th>LightGBM_direct</th>\n",
       "      <td>2.722822</td>\n",
       "      <td>2.286844</td>\n",
       "      <td>2.095833</td>\n",
       "    </tr>\n",
       "  </tbody>\n",
       "</table>\n",
       "</div>"
      ],
      "text/plain": [
       "                                 RMSE        MAE       MAPE\n",
       "Mean                        48.548013  48.519386  44.816666\n",
       "Naive                        3.173993   2.701000   2.472956\n",
       "ETS @ ('add', 'add', True)   3.303630   2.834524   2.596515\n",
       "LightGBM_direct              2.722822   2.286844   2.095833"
      ]
     },
     "metadata": {},
     "output_type": "display_data"
    }
   ],
   "source": [
    "error_metrics()"
   ]
  },
  {
   "cell_type": "markdown",
   "id": "d974c770",
   "metadata": {},
   "source": [
    "### 3.3. Implementing a machine learning regression model with tsFresh\n",
    "\n",
    "#### 3.3.1 Multi-step forecast using LightGBM + tsFresh\n",
    "\n",
    "In implementing tsFresh, we apply its rolling window function using `roll_time_series` to train multiple time series from a single series (similar to TSCV). At each time step, features are extracted for all time steps within the rolling window where the size of the window is manually set. A sample is shown below if rolling window is set to 10 where only observations within the rolling window are considered in the feature extraction and model training."
   ]
  },
  {
   "cell_type": "code",
   "execution_count": 23,
   "id": "734cdb62",
   "metadata": {
    "ExecuteTime": {
     "end_time": "2022-06-07T04:01:24.366531Z",
     "start_time": "2022-06-07T04:01:24.359609Z"
    }
   },
   "outputs": [
    {
     "data": {
      "text/html": [
       "<img src=\"rolling_window.png\"/>"
      ],
      "text/plain": [
       "<IPython.core.display.Image object>"
      ]
     },
     "execution_count": 23,
     "metadata": {},
     "output_type": "execute_result"
    }
   ],
   "source": [
    "Image(url= \"rolling_window.png\")"
   ]
  },
  {
   "cell_type": "markdown",
   "id": "e1ecc7c4",
   "metadata": {},
   "source": [
    "First, we need to add a column to represent the entity to be predicted, in this case, crude oil. We then set the window size to 20 (similar to lookback period) and disregard all windows that are shorter than 5 days."
   ]
  },
  {
   "cell_type": "code",
   "execution_count": 24,
   "id": "69a75e0b",
   "metadata": {
    "ExecuteTime": {
     "end_time": "2022-06-07T04:01:24.767548Z",
     "start_time": "2022-06-07T04:01:24.745910Z"
    }
   },
   "outputs": [
    {
     "data": {
      "text/html": [
       "<div>\n",
       "<style scoped>\n",
       "    .dataframe tbody tr th:only-of-type {\n",
       "        vertical-align: middle;\n",
       "    }\n",
       "\n",
       "    .dataframe tbody tr th {\n",
       "        vertical-align: top;\n",
       "    }\n",
       "\n",
       "    .dataframe thead th {\n",
       "        text-align: right;\n",
       "    }\n",
       "</style>\n",
       "<table border=\"1\" class=\"dataframe\">\n",
       "  <thead>\n",
       "    <tr style=\"text-align: right;\">\n",
       "      <th></th>\n",
       "      <th>crude</th>\n",
       "      <th>dollar</th>\n",
       "      <th>commodity_ind</th>\n",
       "      <th>google_trend</th>\n",
       "      <th>date</th>\n",
       "      <th>item</th>\n",
       "    </tr>\n",
       "  </thead>\n",
       "  <tbody>\n",
       "    <tr>\n",
       "      <th>2014-07-14</th>\n",
       "      <td>106.19</td>\n",
       "      <td>80.230</td>\n",
       "      <td>297.47</td>\n",
       "      <td>13</td>\n",
       "      <td>2014-07-14</td>\n",
       "      <td>Crude Oil</td>\n",
       "    </tr>\n",
       "    <tr>\n",
       "      <th>2014-07-15</th>\n",
       "      <td>105.89</td>\n",
       "      <td>80.446</td>\n",
       "      <td>296.02</td>\n",
       "      <td>16</td>\n",
       "      <td>2014-07-15</td>\n",
       "      <td>Crude Oil</td>\n",
       "    </tr>\n",
       "    <tr>\n",
       "      <th>2014-07-16</th>\n",
       "      <td>105.94</td>\n",
       "      <td>80.625</td>\n",
       "      <td>296.79</td>\n",
       "      <td>15</td>\n",
       "      <td>2014-07-16</td>\n",
       "      <td>Crude Oil</td>\n",
       "    </tr>\n",
       "    <tr>\n",
       "      <th>2014-07-17</th>\n",
       "      <td>106.36</td>\n",
       "      <td>80.570</td>\n",
       "      <td>297.92</td>\n",
       "      <td>15</td>\n",
       "      <td>2014-07-17</td>\n",
       "      <td>Crude Oil</td>\n",
       "    </tr>\n",
       "    <tr>\n",
       "      <th>2014-07-18</th>\n",
       "      <td>105.97</td>\n",
       "      <td>80.595</td>\n",
       "      <td>297.42</td>\n",
       "      <td>11</td>\n",
       "      <td>2014-07-18</td>\n",
       "      <td>Crude Oil</td>\n",
       "    </tr>\n",
       "  </tbody>\n",
       "</table>\n",
       "</div>"
      ],
      "text/plain": [
       "             crude  dollar  commodity_ind  google_trend       date       item\n",
       "2014-07-14  106.19  80.230         297.47            13 2014-07-14  Crude Oil\n",
       "2014-07-15  105.89  80.446         296.02            16 2014-07-15  Crude Oil\n",
       "2014-07-16  105.94  80.625         296.79            15 2014-07-16  Crude Oil\n",
       "2014-07-17  106.36  80.570         297.92            15 2014-07-17  Crude Oil\n",
       "2014-07-18  105.97  80.595         297.42            11 2014-07-18  Crude Oil"
      ]
     },
     "execution_count": 24,
     "metadata": {},
     "output_type": "execute_result"
    }
   ],
   "source": [
    "df_melted = df_conso.copy()\n",
    "df_melted[\"date\"] = df_melted.index\n",
    "df_melted[\"item\"] = \"Crude Oil\"\n",
    "df_melted.head()"
   ]
  },
  {
   "cell_type": "code",
   "execution_count": 25,
   "id": "18cf824e",
   "metadata": {
    "ExecuteTime": {
     "end_time": "2022-06-07T04:01:28.744074Z",
     "start_time": "2022-06-07T04:01:24.999883Z"
    },
    "scrolled": true
   },
   "outputs": [
    {
     "name": "stderr",
     "output_type": "stream",
     "text": [
      "Rolling: 100%|██████████| 80/80 [00:02<00:00, 28.58it/s]\n"
     ]
    }
   ],
   "source": [
    "df_rolled = roll_time_series(df_melted, column_id=\"item\", column_sort='date',\n",
    "                             max_timeshift=20, min_timeshift=5)"
   ]
  },
  {
   "cell_type": "markdown",
   "id": "6ea93dbe",
   "metadata": {},
   "source": [
    "We then perform feature extraction using `extract_features` where features are extracted for every id generated from the rolling window step."
   ]
  },
  {
   "cell_type": "code",
   "execution_count": 26,
   "id": "1c48e35c",
   "metadata": {
    "ExecuteTime": {
     "end_time": "2022-06-07T04:02:22.812632Z",
     "start_time": "2022-06-07T04:01:28.746814Z"
    }
   },
   "outputs": [
    {
     "name": "stderr",
     "output_type": "stream",
     "text": [
      "Feature Extraction: 100%|██████████| 80/80 [00:49<00:00,  1.61it/s]\n"
     ]
    },
    {
     "data": {
      "text/html": [
       "<div>\n",
       "<style scoped>\n",
       "    .dataframe tbody tr th:only-of-type {\n",
       "        vertical-align: middle;\n",
       "    }\n",
       "\n",
       "    .dataframe tbody tr th {\n",
       "        vertical-align: top;\n",
       "    }\n",
       "\n",
       "    .dataframe thead th {\n",
       "        text-align: right;\n",
       "    }\n",
       "</style>\n",
       "<table border=\"1\" class=\"dataframe\">\n",
       "  <thead>\n",
       "    <tr style=\"text-align: right;\">\n",
       "      <th></th>\n",
       "      <th>crude__variance_larger_than_standard_deviation</th>\n",
       "      <th>crude__has_duplicate_max</th>\n",
       "      <th>crude__has_duplicate_min</th>\n",
       "      <th>crude__has_duplicate</th>\n",
       "      <th>crude__sum_values</th>\n",
       "      <th>crude__abs_energy</th>\n",
       "      <th>crude__mean_abs_change</th>\n",
       "      <th>crude__mean_change</th>\n",
       "      <th>crude__mean_second_derivative_central</th>\n",
       "      <th>crude__median</th>\n",
       "      <th>...</th>\n",
       "      <th>crude__permutation_entropy__dimension_6__tau_1</th>\n",
       "      <th>crude__permutation_entropy__dimension_7__tau_1</th>\n",
       "      <th>crude__query_similarity_count__query_None__threshold_0.0</th>\n",
       "      <th>crude__matrix_profile__feature_\"min\"__threshold_0.98</th>\n",
       "      <th>crude__matrix_profile__feature_\"max\"__threshold_0.98</th>\n",
       "      <th>crude__matrix_profile__feature_\"mean\"__threshold_0.98</th>\n",
       "      <th>crude__matrix_profile__feature_\"median\"__threshold_0.98</th>\n",
       "      <th>crude__matrix_profile__feature_\"25\"__threshold_0.98</th>\n",
       "      <th>crude__matrix_profile__feature_\"75\"__threshold_0.98</th>\n",
       "      <th>crude__mean_n_absolute_max__number_of_maxima_7</th>\n",
       "    </tr>\n",
       "    <tr>\n",
       "      <th>last_date</th>\n",
       "      <th></th>\n",
       "      <th></th>\n",
       "      <th></th>\n",
       "      <th></th>\n",
       "      <th></th>\n",
       "      <th></th>\n",
       "      <th></th>\n",
       "      <th></th>\n",
       "      <th></th>\n",
       "      <th></th>\n",
       "      <th></th>\n",
       "      <th></th>\n",
       "      <th></th>\n",
       "      <th></th>\n",
       "      <th></th>\n",
       "      <th></th>\n",
       "      <th></th>\n",
       "      <th></th>\n",
       "      <th></th>\n",
       "      <th></th>\n",
       "      <th></th>\n",
       "    </tr>\n",
       "  </thead>\n",
       "  <tbody>\n",
       "    <tr>\n",
       "      <th>2014-07-21</th>\n",
       "      <td>0.0</td>\n",
       "      <td>0.0</td>\n",
       "      <td>0.0</td>\n",
       "      <td>0.0</td>\n",
       "      <td>636.57</td>\n",
       "      <td>67537.0707</td>\n",
       "      <td>0.282000</td>\n",
       "      <td>0.006000</td>\n",
       "      <td>0.068750</td>\n",
       "      <td>106.080</td>\n",
       "      <td>...</td>\n",
       "      <td>-0.000000</td>\n",
       "      <td>2.708050</td>\n",
       "      <td>0.0</td>\n",
       "      <td>1.055733</td>\n",
       "      <td>3.765637</td>\n",
       "      <td>2.120209</td>\n",
       "      <td>2.03488</td>\n",
       "      <td>1.290774</td>\n",
       "      <td>2.867551</td>\n",
       "      <td>61.218571</td>\n",
       "    </tr>\n",
       "    <tr>\n",
       "      <th>2014-07-22</th>\n",
       "      <td>0.0</td>\n",
       "      <td>0.0</td>\n",
       "      <td>0.0</td>\n",
       "      <td>0.0</td>\n",
       "      <td>742.81</td>\n",
       "      <td>78824.0083</td>\n",
       "      <td>0.238333</td>\n",
       "      <td>0.008333</td>\n",
       "      <td>0.032000</td>\n",
       "      <td>106.190</td>\n",
       "      <td>...</td>\n",
       "      <td>0.693147</td>\n",
       "      <td>-0.000000</td>\n",
       "      <td>0.0</td>\n",
       "      <td>1.055733</td>\n",
       "      <td>3.765637</td>\n",
       "      <td>2.120209</td>\n",
       "      <td>2.03488</td>\n",
       "      <td>1.290774</td>\n",
       "      <td>2.867551</td>\n",
       "      <td>61.218571</td>\n",
       "    </tr>\n",
       "    <tr>\n",
       "      <th>2014-07-23</th>\n",
       "      <td>0.0</td>\n",
       "      <td>1.0</td>\n",
       "      <td>0.0</td>\n",
       "      <td>1.0</td>\n",
       "      <td>849.17</td>\n",
       "      <td>90136.4579</td>\n",
       "      <td>0.221429</td>\n",
       "      <td>0.024286</td>\n",
       "      <td>0.035000</td>\n",
       "      <td>106.205</td>\n",
       "      <td>...</td>\n",
       "      <td>1.098612</td>\n",
       "      <td>0.693147</td>\n",
       "      <td>0.0</td>\n",
       "      <td>1.055733</td>\n",
       "      <td>3.765637</td>\n",
       "      <td>2.120209</td>\n",
       "      <td>2.03488</td>\n",
       "      <td>1.290774</td>\n",
       "      <td>2.867551</td>\n",
       "      <td>106.182857</td>\n",
       "    </tr>\n",
       "    <tr>\n",
       "      <th>2014-07-24</th>\n",
       "      <td>0.0</td>\n",
       "      <td>1.0</td>\n",
       "      <td>0.0</td>\n",
       "      <td>1.0</td>\n",
       "      <td>955.33</td>\n",
       "      <td>101406.4035</td>\n",
       "      <td>0.218750</td>\n",
       "      <td>-0.003750</td>\n",
       "      <td>0.007143</td>\n",
       "      <td>106.190</td>\n",
       "      <td>...</td>\n",
       "      <td>1.386294</td>\n",
       "      <td>1.098612</td>\n",
       "      <td>0.0</td>\n",
       "      <td>1.055733</td>\n",
       "      <td>3.765637</td>\n",
       "      <td>2.120209</td>\n",
       "      <td>2.03488</td>\n",
       "      <td>1.290774</td>\n",
       "      <td>2.867551</td>\n",
       "      <td>106.214286</td>\n",
       "    </tr>\n",
       "    <tr>\n",
       "      <th>2014-07-25</th>\n",
       "      <td>0.0</td>\n",
       "      <td>0.0</td>\n",
       "      <td>0.0</td>\n",
       "      <td>1.0</td>\n",
       "      <td>1061.74</td>\n",
       "      <td>112729.4916</td>\n",
       "      <td>0.222222</td>\n",
       "      <td>0.024444</td>\n",
       "      <td>0.034375</td>\n",
       "      <td>106.205</td>\n",
       "      <td>...</td>\n",
       "      <td>1.609438</td>\n",
       "      <td>1.386294</td>\n",
       "      <td>0.0</td>\n",
       "      <td>1.055733</td>\n",
       "      <td>3.765637</td>\n",
       "      <td>2.120209</td>\n",
       "      <td>2.03488</td>\n",
       "      <td>1.290774</td>\n",
       "      <td>2.867551</td>\n",
       "      <td>106.277143</td>\n",
       "    </tr>\n",
       "  </tbody>\n",
       "</table>\n",
       "<p>5 rows × 789 columns</p>\n",
       "</div>"
      ],
      "text/plain": [
       "            crude__variance_larger_than_standard_deviation  \\\n",
       "last_date                                                    \n",
       "2014-07-21                                             0.0   \n",
       "2014-07-22                                             0.0   \n",
       "2014-07-23                                             0.0   \n",
       "2014-07-24                                             0.0   \n",
       "2014-07-25                                             0.0   \n",
       "\n",
       "            crude__has_duplicate_max  crude__has_duplicate_min  \\\n",
       "last_date                                                        \n",
       "2014-07-21                       0.0                       0.0   \n",
       "2014-07-22                       0.0                       0.0   \n",
       "2014-07-23                       1.0                       0.0   \n",
       "2014-07-24                       1.0                       0.0   \n",
       "2014-07-25                       0.0                       0.0   \n",
       "\n",
       "            crude__has_duplicate  crude__sum_values  crude__abs_energy  \\\n",
       "last_date                                                                \n",
       "2014-07-21                   0.0             636.57         67537.0707   \n",
       "2014-07-22                   0.0             742.81         78824.0083   \n",
       "2014-07-23                   1.0             849.17         90136.4579   \n",
       "2014-07-24                   1.0             955.33        101406.4035   \n",
       "2014-07-25                   1.0            1061.74        112729.4916   \n",
       "\n",
       "            crude__mean_abs_change  crude__mean_change  \\\n",
       "last_date                                                \n",
       "2014-07-21                0.282000            0.006000   \n",
       "2014-07-22                0.238333            0.008333   \n",
       "2014-07-23                0.221429            0.024286   \n",
       "2014-07-24                0.218750           -0.003750   \n",
       "2014-07-25                0.222222            0.024444   \n",
       "\n",
       "            crude__mean_second_derivative_central  crude__median  ...  \\\n",
       "last_date                                                         ...   \n",
       "2014-07-21                               0.068750        106.080  ...   \n",
       "2014-07-22                               0.032000        106.190  ...   \n",
       "2014-07-23                               0.035000        106.205  ...   \n",
       "2014-07-24                               0.007143        106.190  ...   \n",
       "2014-07-25                               0.034375        106.205  ...   \n",
       "\n",
       "            crude__permutation_entropy__dimension_6__tau_1  \\\n",
       "last_date                                                    \n",
       "2014-07-21                                       -0.000000   \n",
       "2014-07-22                                        0.693147   \n",
       "2014-07-23                                        1.098612   \n",
       "2014-07-24                                        1.386294   \n",
       "2014-07-25                                        1.609438   \n",
       "\n",
       "            crude__permutation_entropy__dimension_7__tau_1  \\\n",
       "last_date                                                    \n",
       "2014-07-21                                        2.708050   \n",
       "2014-07-22                                       -0.000000   \n",
       "2014-07-23                                        0.693147   \n",
       "2014-07-24                                        1.098612   \n",
       "2014-07-25                                        1.386294   \n",
       "\n",
       "            crude__query_similarity_count__query_None__threshold_0.0  \\\n",
       "last_date                                                              \n",
       "2014-07-21                                                0.0          \n",
       "2014-07-22                                                0.0          \n",
       "2014-07-23                                                0.0          \n",
       "2014-07-24                                                0.0          \n",
       "2014-07-25                                                0.0          \n",
       "\n",
       "            crude__matrix_profile__feature_\"min\"__threshold_0.98  \\\n",
       "last_date                                                          \n",
       "2014-07-21                                           1.055733      \n",
       "2014-07-22                                           1.055733      \n",
       "2014-07-23                                           1.055733      \n",
       "2014-07-24                                           1.055733      \n",
       "2014-07-25                                           1.055733      \n",
       "\n",
       "            crude__matrix_profile__feature_\"max\"__threshold_0.98  \\\n",
       "last_date                                                          \n",
       "2014-07-21                                           3.765637      \n",
       "2014-07-22                                           3.765637      \n",
       "2014-07-23                                           3.765637      \n",
       "2014-07-24                                           3.765637      \n",
       "2014-07-25                                           3.765637      \n",
       "\n",
       "            crude__matrix_profile__feature_\"mean\"__threshold_0.98  \\\n",
       "last_date                                                           \n",
       "2014-07-21                                           2.120209       \n",
       "2014-07-22                                           2.120209       \n",
       "2014-07-23                                           2.120209       \n",
       "2014-07-24                                           2.120209       \n",
       "2014-07-25                                           2.120209       \n",
       "\n",
       "            crude__matrix_profile__feature_\"median\"__threshold_0.98  \\\n",
       "last_date                                                             \n",
       "2014-07-21                                            2.03488         \n",
       "2014-07-22                                            2.03488         \n",
       "2014-07-23                                            2.03488         \n",
       "2014-07-24                                            2.03488         \n",
       "2014-07-25                                            2.03488         \n",
       "\n",
       "            crude__matrix_profile__feature_\"25\"__threshold_0.98  \\\n",
       "last_date                                                         \n",
       "2014-07-21                                           1.290774     \n",
       "2014-07-22                                           1.290774     \n",
       "2014-07-23                                           1.290774     \n",
       "2014-07-24                                           1.290774     \n",
       "2014-07-25                                           1.290774     \n",
       "\n",
       "            crude__matrix_profile__feature_\"75\"__threshold_0.98  \\\n",
       "last_date                                                         \n",
       "2014-07-21                                           2.867551     \n",
       "2014-07-22                                           2.867551     \n",
       "2014-07-23                                           2.867551     \n",
       "2014-07-24                                           2.867551     \n",
       "2014-07-25                                           2.867551     \n",
       "\n",
       "            crude__mean_n_absolute_max__number_of_maxima_7  \n",
       "last_date                                                   \n",
       "2014-07-21                                       61.218571  \n",
       "2014-07-22                                       61.218571  \n",
       "2014-07-23                                      106.182857  \n",
       "2014-07-24                                      106.214286  \n",
       "2014-07-25                                      106.277143  \n",
       "\n",
       "[5 rows x 789 columns]"
      ]
     },
     "execution_count": 26,
     "metadata": {},
     "output_type": "execute_result"
    }
   ],
   "source": [
    "X = extract_features(df_rolled.drop(\"item\", axis=1), \n",
    "                     column_id=\"id\", column_sort=\"date\", column_value=\"crude\", \n",
    "                     impute_function=impute, show_warnings=False)\n",
    "X = X.set_index(X.index.map(lambda x: x[1]), drop=True)\n",
    "X.index.name = \"last_date\"\n",
    "X.head()"
   ]
  },
  {
   "cell_type": "markdown",
   "id": "3043c0a2",
   "metadata": {},
   "source": [
    "We now set y to be the forecasting target (value of next time step for h steps). We will no longer perform `select_features` function for feature selection because it requires y in scalar form as input. Since this is a multi-step forecasting procedure, our y is not in scalar form. Thus, we will train the whole model on all extracted features. We show the X_test and y_test below where columns in X_test represent all extracted aggregated features from tsFresh for the rolling window period. On the other hand, y_test represents crude oil prices for periods from 5-19-2022 to 6-2-2022, our test set."
   ]
  },
  {
   "cell_type": "code",
   "execution_count": 27,
   "id": "18e7045a",
   "metadata": {
    "ExecuteTime": {
     "end_time": "2022-06-07T04:02:23.166944Z",
     "start_time": "2022-06-07T04:02:22.815113Z"
    }
   },
   "outputs": [
    {
     "data": {
      "text/html": [
       "<div>\n",
       "<style scoped>\n",
       "    .dataframe tbody tr th:only-of-type {\n",
       "        vertical-align: middle;\n",
       "    }\n",
       "\n",
       "    .dataframe tbody tr th {\n",
       "        vertical-align: top;\n",
       "    }\n",
       "\n",
       "    .dataframe thead th {\n",
       "        text-align: right;\n",
       "    }\n",
       "</style>\n",
       "<table border=\"1\" class=\"dataframe\">\n",
       "  <thead>\n",
       "    <tr style=\"text-align: right;\">\n",
       "      <th></th>\n",
       "      <th>0</th>\n",
       "      <th>1</th>\n",
       "      <th>2</th>\n",
       "      <th>3</th>\n",
       "      <th>4</th>\n",
       "      <th>5</th>\n",
       "      <th>6</th>\n",
       "      <th>7</th>\n",
       "      <th>8</th>\n",
       "      <th>9</th>\n",
       "    </tr>\n",
       "    <tr>\n",
       "      <th>date</th>\n",
       "      <th></th>\n",
       "      <th></th>\n",
       "      <th></th>\n",
       "      <th></th>\n",
       "      <th></th>\n",
       "      <th></th>\n",
       "      <th></th>\n",
       "      <th></th>\n",
       "      <th></th>\n",
       "      <th></th>\n",
       "    </tr>\n",
       "  </thead>\n",
       "  <tbody>\n",
       "    <tr>\n",
       "      <th>2014-07-14</th>\n",
       "      <td>105.89</td>\n",
       "      <td>105.94</td>\n",
       "      <td>106.36</td>\n",
       "      <td>105.97</td>\n",
       "      <td>106.22</td>\n",
       "      <td>106.24</td>\n",
       "      <td>106.36</td>\n",
       "      <td>106.16</td>\n",
       "      <td>106.41</td>\n",
       "      <td>106.18</td>\n",
       "    </tr>\n",
       "    <tr>\n",
       "      <th>2014-07-15</th>\n",
       "      <td>105.94</td>\n",
       "      <td>106.36</td>\n",
       "      <td>105.97</td>\n",
       "      <td>106.22</td>\n",
       "      <td>106.24</td>\n",
       "      <td>106.36</td>\n",
       "      <td>106.16</td>\n",
       "      <td>106.41</td>\n",
       "      <td>106.18</td>\n",
       "      <td>106.30</td>\n",
       "    </tr>\n",
       "    <tr>\n",
       "      <th>2014-07-16</th>\n",
       "      <td>106.36</td>\n",
       "      <td>105.97</td>\n",
       "      <td>106.22</td>\n",
       "      <td>106.24</td>\n",
       "      <td>106.36</td>\n",
       "      <td>106.16</td>\n",
       "      <td>106.41</td>\n",
       "      <td>106.18</td>\n",
       "      <td>106.30</td>\n",
       "      <td>106.20</td>\n",
       "    </tr>\n",
       "    <tr>\n",
       "      <th>2014-07-17</th>\n",
       "      <td>105.97</td>\n",
       "      <td>106.22</td>\n",
       "      <td>106.24</td>\n",
       "      <td>106.36</td>\n",
       "      <td>106.16</td>\n",
       "      <td>106.41</td>\n",
       "      <td>106.18</td>\n",
       "      <td>106.30</td>\n",
       "      <td>106.20</td>\n",
       "      <td>106.15</td>\n",
       "    </tr>\n",
       "    <tr>\n",
       "      <th>2014-07-18</th>\n",
       "      <td>106.22</td>\n",
       "      <td>106.24</td>\n",
       "      <td>106.36</td>\n",
       "      <td>106.16</td>\n",
       "      <td>106.41</td>\n",
       "      <td>106.18</td>\n",
       "      <td>106.30</td>\n",
       "      <td>106.20</td>\n",
       "      <td>106.15</td>\n",
       "      <td>103.44</td>\n",
       "    </tr>\n",
       "    <tr>\n",
       "      <th>...</th>\n",
       "      <td>...</td>\n",
       "      <td>...</td>\n",
       "      <td>...</td>\n",
       "      <td>...</td>\n",
       "      <td>...</td>\n",
       "      <td>...</td>\n",
       "      <td>...</td>\n",
       "      <td>...</td>\n",
       "      <td>...</td>\n",
       "      <td>...</td>\n",
       "    </tr>\n",
       "    <tr>\n",
       "      <th>2022-04-28</th>\n",
       "      <td>102.79</td>\n",
       "      <td>103.86</td>\n",
       "      <td>103.39</td>\n",
       "      <td>105.97</td>\n",
       "      <td>106.40</td>\n",
       "      <td>107.57</td>\n",
       "      <td>102.79</td>\n",
       "      <td>100.43</td>\n",
       "      <td>104.56</td>\n",
       "      <td>104.66</td>\n",
       "    </tr>\n",
       "    <tr>\n",
       "      <th>2022-04-29</th>\n",
       "      <td>103.86</td>\n",
       "      <td>103.39</td>\n",
       "      <td>105.97</td>\n",
       "      <td>106.40</td>\n",
       "      <td>107.57</td>\n",
       "      <td>102.79</td>\n",
       "      <td>100.43</td>\n",
       "      <td>104.56</td>\n",
       "      <td>104.66</td>\n",
       "      <td>107.23</td>\n",
       "    </tr>\n",
       "    <tr>\n",
       "      <th>2022-05-02</th>\n",
       "      <td>103.39</td>\n",
       "      <td>105.97</td>\n",
       "      <td>106.40</td>\n",
       "      <td>107.57</td>\n",
       "      <td>102.79</td>\n",
       "      <td>100.43</td>\n",
       "      <td>104.56</td>\n",
       "      <td>104.66</td>\n",
       "      <td>107.23</td>\n",
       "      <td>108.40</td>\n",
       "    </tr>\n",
       "    <tr>\n",
       "      <th>2022-05-03</th>\n",
       "      <td>105.97</td>\n",
       "      <td>106.40</td>\n",
       "      <td>107.57</td>\n",
       "      <td>102.79</td>\n",
       "      <td>100.43</td>\n",
       "      <td>104.56</td>\n",
       "      <td>104.66</td>\n",
       "      <td>107.23</td>\n",
       "      <td>108.40</td>\n",
       "      <td>106.88</td>\n",
       "    </tr>\n",
       "    <tr>\n",
       "      <th>2022-05-04</th>\n",
       "      <td>106.40</td>\n",
       "      <td>107.57</td>\n",
       "      <td>102.79</td>\n",
       "      <td>100.43</td>\n",
       "      <td>104.56</td>\n",
       "      <td>104.66</td>\n",
       "      <td>107.23</td>\n",
       "      <td>108.40</td>\n",
       "      <td>106.88</td>\n",
       "      <td>105.53</td>\n",
       "    </tr>\n",
       "  </tbody>\n",
       "</table>\n",
       "<p>1966 rows × 10 columns</p>\n",
       "</div>"
      ],
      "text/plain": [
       "                 0       1       2       3       4       5       6       7  \\\n",
       "date                                                                         \n",
       "2014-07-14  105.89  105.94  106.36  105.97  106.22  106.24  106.36  106.16   \n",
       "2014-07-15  105.94  106.36  105.97  106.22  106.24  106.36  106.16  106.41   \n",
       "2014-07-16  106.36  105.97  106.22  106.24  106.36  106.16  106.41  106.18   \n",
       "2014-07-17  105.97  106.22  106.24  106.36  106.16  106.41  106.18  106.30   \n",
       "2014-07-18  106.22  106.24  106.36  106.16  106.41  106.18  106.30  106.20   \n",
       "...            ...     ...     ...     ...     ...     ...     ...     ...   \n",
       "2022-04-28  102.79  103.86  103.39  105.97  106.40  107.57  102.79  100.43   \n",
       "2022-04-29  103.86  103.39  105.97  106.40  107.57  102.79  100.43  104.56   \n",
       "2022-05-02  103.39  105.97  106.40  107.57  102.79  100.43  104.56  104.66   \n",
       "2022-05-03  105.97  106.40  107.57  102.79  100.43  104.56  104.66  107.23   \n",
       "2022-05-04  106.40  107.57  102.79  100.43  104.56  104.66  107.23  108.40   \n",
       "\n",
       "                 8       9  \n",
       "date                        \n",
       "2014-07-14  106.41  106.18  \n",
       "2014-07-15  106.18  106.30  \n",
       "2014-07-16  106.30  106.20  \n",
       "2014-07-17  106.20  106.15  \n",
       "2014-07-18  106.15  103.44  \n",
       "...            ...     ...  \n",
       "2022-04-28  104.56  104.66  \n",
       "2022-04-29  104.66  107.23  \n",
       "2022-05-02  107.23  108.40  \n",
       "2022-05-03  108.40  106.88  \n",
       "2022-05-04  106.88  105.53  \n",
       "\n",
       "[1966 rows x 10 columns]"
      ]
     },
     "execution_count": 27,
     "metadata": {},
     "output_type": "execute_result"
    }
   ],
   "source": [
    "y = df_melted.set_index(\"date\").sort_index().crude\n",
    "y = y.loc[:df_test.index[0]][:-1] #remove test set to avoid data leakage\n",
    "final_y = []\n",
    "for i in range(len(y)):\n",
    "    if len(y[i+1:i+h+1]) == h:\n",
    "        final_y.append(y[i+1:i+h+1].to_numpy())\n",
    "\n",
    "df_y = pd.DataFrame(final_y, index=y.index[:-h])\n",
    "df_y"
   ]
  },
  {
   "cell_type": "code",
   "execution_count": 28,
   "id": "e956c4cf",
   "metadata": {
    "ExecuteTime": {
     "end_time": "2022-06-07T04:02:38.987715Z",
     "start_time": "2022-06-07T04:02:23.169584Z"
    }
   },
   "outputs": [],
   "source": [
    "#filter to relevant common datapoints\n",
    "df_y = df_y[df_y.index.isin(X.index)]\n",
    "df_X = X[X.index.isin(df_y.index)]\n",
    "\n",
    "X_test = X.loc[df_test.index[0]-timedelta(1)]\n",
    "\n",
    "X_train = df_X[:X_test.name][:-1]\n",
    "y_train = df_y[:X_test.name][:-1]\n",
    "\n",
    "#should rename columns for lgb compatibility\n",
    "X_train.columns = list(range(len(X_train.columns)))\n",
    "\n",
    "model = MultiOutputRegressor(lgb.LGBMRegressor(), n_jobs = -1)\n",
    "model.fit(X_train, y_train)\n",
    "forecast_tsfresh_mult_ = model.predict(pd.DataFrame(X_test).T).ravel()\n",
    "df_f['tsfresh + LightGBM'] = forecast_tsfresh_mult_"
   ]
  },
  {
   "cell_type": "code",
   "execution_count": 29,
   "id": "08330fa1",
   "metadata": {
    "ExecuteTime": {
     "end_time": "2022-06-07T04:02:39.317914Z",
     "start_time": "2022-06-07T04:02:38.991025Z"
    }
   },
   "outputs": [
    {
     "data": {
      "image/png": "[encoded data removed]",
      "text/plain": [
       "<Figure size 1080x432 with 1 Axes>"
      ]
     },
     "metadata": {
      "needs_background": "light"
     },
     "output_type": "display_data"
    }
   ],
   "source": [
    "plt.figure(figsize=(15, 6))\n",
    "df_test.plot(ax=plt.gca(), label='test', legend=True)\n",
    "df_f.iloc[:,1:].plot(ax=plt.gca());"
   ]
  },
  {
   "cell_type": "code",
   "execution_count": 30,
   "id": "2adffca5",
   "metadata": {
    "ExecuteTime": {
     "end_time": "2022-06-07T04:02:39.330822Z",
     "start_time": "2022-06-07T04:02:39.320054Z"
    }
   },
   "outputs": [
    {
     "data": {
      "text/html": [
       "<div>\n",
       "<style scoped>\n",
       "    .dataframe tbody tr th:only-of-type {\n",
       "        vertical-align: middle;\n",
       "    }\n",
       "\n",
       "    .dataframe tbody tr th {\n",
       "        vertical-align: top;\n",
       "    }\n",
       "\n",
       "    .dataframe thead th {\n",
       "        text-align: right;\n",
       "    }\n",
       "</style>\n",
       "<table border=\"1\" class=\"dataframe\">\n",
       "  <thead>\n",
       "    <tr style=\"text-align: right;\">\n",
       "      <th></th>\n",
       "      <th>RMSE</th>\n",
       "      <th>MAE</th>\n",
       "      <th>MAPE</th>\n",
       "    </tr>\n",
       "  </thead>\n",
       "  <tbody>\n",
       "    <tr>\n",
       "      <th>Mean</th>\n",
       "      <td>48.548013</td>\n",
       "      <td>48.519386</td>\n",
       "      <td>44.816666</td>\n",
       "    </tr>\n",
       "    <tr>\n",
       "      <th>Naive</th>\n",
       "      <td>3.173993</td>\n",
       "      <td>2.701000</td>\n",
       "      <td>2.472956</td>\n",
       "    </tr>\n",
       "    <tr>\n",
       "      <th>ETS @ ('add', 'add', True)</th>\n",
       "      <td>3.303630</td>\n",
       "      <td>2.834524</td>\n",
       "      <td>2.596515</td>\n",
       "    </tr>\n",
       "    <tr>\n",
       "      <th>LightGBM_direct</th>\n",
       "      <td>2.722822</td>\n",
       "      <td>2.286844</td>\n",
       "      <td>2.095833</td>\n",
       "    </tr>\n",
       "    <tr>\n",
       "      <th>tsfresh + LightGBM</th>\n",
       "      <td>3.647465</td>\n",
       "      <td>2.934866</td>\n",
       "      <td>2.684043</td>\n",
       "    </tr>\n",
       "  </tbody>\n",
       "</table>\n",
       "</div>"
      ],
      "text/plain": [
       "                                 RMSE        MAE       MAPE\n",
       "Mean                        48.548013  48.519386  44.816666\n",
       "Naive                        3.173993   2.701000   2.472956\n",
       "ETS @ ('add', 'add', True)   3.303630   2.834524   2.596515\n",
       "LightGBM_direct              2.722822   2.286844   2.095833\n",
       "tsfresh + LightGBM           3.647465   2.934866   2.684043"
      ]
     },
     "metadata": {},
     "output_type": "display_data"
    }
   ],
   "source": [
    "error_metrics()"
   ]
  },
  {
   "cell_type": "markdown",
   "id": "dbfb210b",
   "metadata": {},
   "source": [
    "#### 3.3.2 One-step forecast using Linear Regression + tsFresh\n",
    "\n",
    "Given not so impressive results from the multi-step forecast of tsFresh, we try to implement `select_features` function of tsFresh where only relevant features are retained. In doing so, we implement a one-step forecast as it requires the y input to be in scalar form. We achieve significantly better results using only a simple linear regression model, albeit we are only able to forecast for the next day."
   ]
  },
  {
   "cell_type": "code",
   "execution_count": 31,
   "id": "ed663930",
   "metadata": {
    "ExecuteTime": {
     "end_time": "2022-06-07T04:02:39.352502Z",
     "start_time": "2022-06-07T04:02:39.332817Z"
    }
   },
   "outputs": [],
   "source": [
    "y = df_melted.set_index(\"date\").sort_index().crude.shift(-1)\n",
    "\n",
    "y = y[y.index.isin(X.index)]\n",
    "X = X[X.index.isin(y.index)]\n",
    "\n",
    "X_train = X[:-test_size-1]\n",
    "X_test = X[-test_size-1:]\n",
    "\n",
    "y_train = y[:-test_size-1]\n",
    "y_test = y[-test_size-1:][:-1].to_numpy()"
   ]
  },
  {
   "cell_type": "code",
   "execution_count": 33,
   "id": "d59defa9",
   "metadata": {
    "ExecuteTime": {
     "end_time": "2022-06-07T04:03:14.179672Z",
     "start_time": "2022-06-07T04:03:00.030721Z"
    }
   },
   "outputs": [],
   "source": [
    "X_train_selected = select_features(X_train, y_train)\n",
    "X_test_selected = X_test[X_train_selected.columns]\n",
    "\n",
    "model = lgb.LGBMRegressor()\n",
    "\n",
    "#rename column names for compatibility with LightGBM\n",
    "X_train_selected.columns = list(range(len(X_train_selected.columns)))\n",
    "X_test_selected.columns = list(range(len(X_test_selected.columns)))\n",
    "\n",
    "model.fit(X_train_selected, y_train)\n",
    "\n",
    "forecast_tsfresh_one_ = pd.Series(model.predict(X_test_selected), index=X_test_selected.index)"
   ]
  },
  {
   "cell_type": "code",
   "execution_count": 35,
   "id": "da6131c5",
   "metadata": {
    "ExecuteTime": {
     "end_time": "2022-06-07T04:03:23.497584Z",
     "start_time": "2022-06-07T04:03:23.164086Z"
    }
   },
   "outputs": [
    {
     "data": {
      "image/png": "[encoded data removed]",
      "text/plain": [
       "<Figure size 1080x432 with 1 Axes>"
      ]
     },
     "metadata": {
      "needs_background": "light"
     },
     "output_type": "display_data"
    }
   ],
   "source": [
    "df_f['tsfresh + LightGBM_onestep'] = forecast_tsfresh_one_\n",
    "plt.figure(figsize=(15, 6))\n",
    "plt.title(\"Dubai Crude Oil Price\")\n",
    "plt.xlabel(\"Date\")\n",
    "plt.ylabel(\"Price\")\n",
    "df_test.plot(ax=plt.gca(), label='test', legend=True)\n",
    "df_f.iloc[:,1:].plot(ax=plt.gca());"
   ]
  },
  {
   "cell_type": "markdown",
   "id": "2c9866e7",
   "metadata": {},
   "source": [
    "## Summary of Results"
   ]
  },
  {
   "cell_type": "code",
   "execution_count": 36,
   "id": "646c9b95",
   "metadata": {
    "ExecuteTime": {
     "end_time": "2022-06-07T04:03:29.410010Z",
     "start_time": "2022-06-07T04:03:29.390902Z"
    }
   },
   "outputs": [
    {
     "data": {
      "text/html": [
       "<div>\n",
       "<style scoped>\n",
       "    .dataframe tbody tr th:only-of-type {\n",
       "        vertical-align: middle;\n",
       "    }\n",
       "\n",
       "    .dataframe tbody tr th {\n",
       "        vertical-align: top;\n",
       "    }\n",
       "\n",
       "    .dataframe thead th {\n",
       "        text-align: right;\n",
       "    }\n",
       "</style>\n",
       "<table border=\"1\" class=\"dataframe\">\n",
       "  <thead>\n",
       "    <tr style=\"text-align: right;\">\n",
       "      <th></th>\n",
       "      <th>RMSE</th>\n",
       "      <th>MAE</th>\n",
       "      <th>MAPE</th>\n",
       "    </tr>\n",
       "  </thead>\n",
       "  <tbody>\n",
       "    <tr>\n",
       "      <th>Mean</th>\n",
       "      <td>48.548013</td>\n",
       "      <td>48.519386</td>\n",
       "      <td>44.816666</td>\n",
       "    </tr>\n",
       "    <tr>\n",
       "      <th>Naive</th>\n",
       "      <td>3.173993</td>\n",
       "      <td>2.701000</td>\n",
       "      <td>2.472956</td>\n",
       "    </tr>\n",
       "    <tr>\n",
       "      <th>ETS @ ('add', 'add', True)</th>\n",
       "      <td>3.303630</td>\n",
       "      <td>2.834524</td>\n",
       "      <td>2.596515</td>\n",
       "    </tr>\n",
       "    <tr>\n",
       "      <th>LightGBM_direct</th>\n",
       "      <td>2.722822</td>\n",
       "      <td>2.286844</td>\n",
       "      <td>2.095833</td>\n",
       "    </tr>\n",
       "    <tr>\n",
       "      <th>tsfresh + LightGBM</th>\n",
       "      <td>3.647465</td>\n",
       "      <td>2.934866</td>\n",
       "      <td>2.684043</td>\n",
       "    </tr>\n",
       "    <tr>\n",
       "      <th>tsfresh + LightGBM_onestep</th>\n",
       "      <td>2.350333</td>\n",
       "      <td>1.983314</td>\n",
       "      <td>1.822660</td>\n",
       "    </tr>\n",
       "  </tbody>\n",
       "</table>\n",
       "</div>"
      ],
      "text/plain": [
       "                                 RMSE        MAE       MAPE\n",
       "Mean                        48.548013  48.519386  44.816666\n",
       "Naive                        3.173993   2.701000   2.472956\n",
       "ETS @ ('add', 'add', True)   3.303630   2.834524   2.596515\n",
       "LightGBM_direct              2.722822   2.286844   2.095833\n",
       "tsfresh + LightGBM           3.647465   2.934866   2.684043\n",
       "tsfresh + LightGBM_onestep   2.350333   1.983314   1.822660"
      ]
     },
     "metadata": {},
     "output_type": "display_data"
    }
   ],
   "source": [
    "error_metrics()"
   ]
  },
  {
   "cell_type": "markdown",
   "id": "96c5c0a3",
   "metadata": {},
   "source": [
    "## References\n",
    "\n",
    "1. All TSA notes and lectures\n",
    "2. TsFresh documentation"
   ]
  }
 ],
 "metadata": {
  "kernelspec": {
   "display_name": "Python 3 (ipykernel)",
   "language": "python",
   "name": "python3"
  },
  "language_info": {
   "codemirror_mode": {
    "name": "ipython",
    "version": 3
   },
   "file_extension": ".py",
   "mimetype": "text/x-python",
   "name": "python",
   "nbconvert_exporter": "python",
   "pygments_lexer": "ipython3",
   "version": "3.9.7"
  }
 },
 "nbformat": 4,
 "nbformat_minor": 5
}
